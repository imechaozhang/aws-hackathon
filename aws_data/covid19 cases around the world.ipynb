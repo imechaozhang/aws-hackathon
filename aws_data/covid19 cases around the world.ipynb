{
 "cells": [
  {
   "cell_type": "code",
   "execution_count": 18,
   "metadata": {},
   "outputs": [],
   "source": [
    "import pandas as pd\n",
    "corona = pd.read_csv('coronadatascraper-timeseries_jhu__202008140200__202008140200.csv')\n",
    "bed = pd.read_csv('usa-hospital-beds_dataset_usa-hospital-beds.csv')"
   ]
  },
  {
   "cell_type": "code",
   "execution_count": 19,
   "metadata": {},
   "outputs": [
    {
     "data": {
      "text/html": [
       "<div>\n",
       "<style scoped>\n",
       "    .dataframe tbody tr th:only-of-type {\n",
       "        vertical-align: middle;\n",
       "    }\n",
       "\n",
       "    .dataframe tbody tr th {\n",
       "        vertical-align: top;\n",
       "    }\n",
       "\n",
       "    .dataframe thead th {\n",
       "        text-align: right;\n",
       "    }\n",
       "</style>\n",
       "<table border=\"1\" class=\"dataframe\">\n",
       "  <thead>\n",
       "    <tr style=\"text-align: right;\">\n",
       "      <th></th>\n",
       "      <th>locationid</th>\n",
       "      <th>slug</th>\n",
       "      <th>name</th>\n",
       "      <th>level</th>\n",
       "      <th>country</th>\n",
       "      <th>population</th>\n",
       "      <th>tz</th>\n",
       "      <th>2020_01_22</th>\n",
       "      <th>2020_01_23</th>\n",
       "      <th>2020_01_24</th>\n",
       "      <th>...</th>\n",
       "      <th>2020_08_07</th>\n",
       "      <th>2020_08_08</th>\n",
       "      <th>2020_08_09</th>\n",
       "      <th>2020_08_10</th>\n",
       "      <th>2020_08_11</th>\n",
       "      <th>2020_08_12</th>\n",
       "      <th>2020_08_13</th>\n",
       "      <th>2020_08_14</th>\n",
       "      <th>last_updated_at</th>\n",
       "      <th>state_fips</th>\n",
       "    </tr>\n",
       "  </thead>\n",
       "  <tbody>\n",
       "    <tr>\n",
       "      <th>0</th>\n",
       "      <td>iso1:ad</td>\n",
       "      <td>ad</td>\n",
       "      <td>AD</td>\n",
       "      <td>country</td>\n",
       "      <td>Andorra</td>\n",
       "      <td>76177.0</td>\n",
       "      <td>Europe/Andorra</td>\n",
       "      <td>0</td>\n",
       "      <td>0.0</td>\n",
       "      <td>0.0</td>\n",
       "      <td>...</td>\n",
       "      <td>955.0</td>\n",
       "      <td>955.0</td>\n",
       "      <td>955.0</td>\n",
       "      <td>963.0</td>\n",
       "      <td>963.0</td>\n",
       "      <td>963.0</td>\n",
       "      <td>963.0</td>\n",
       "      <td>963.0</td>\n",
       "      <td>2020-08-14T02:02:03</td>\n",
       "      <td>NaN</td>\n",
       "    </tr>\n",
       "    <tr>\n",
       "      <th>1</th>\n",
       "      <td>iso1:ae</td>\n",
       "      <td>ae</td>\n",
       "      <td>AE</td>\n",
       "      <td>country</td>\n",
       "      <td>United Arab Emirates</td>\n",
       "      <td>90145.0</td>\n",
       "      <td>Asia/Dubai</td>\n",
       "      <td>0</td>\n",
       "      <td>0.0</td>\n",
       "      <td>0.0</td>\n",
       "      <td>...</td>\n",
       "      <td>62061.0</td>\n",
       "      <td>62300.0</td>\n",
       "      <td>62525.0</td>\n",
       "      <td>62704.0</td>\n",
       "      <td>62966.0</td>\n",
       "      <td>62966.0</td>\n",
       "      <td>62966.0</td>\n",
       "      <td>62966.0</td>\n",
       "      <td>2020-08-14T02:02:03</td>\n",
       "      <td>NaN</td>\n",
       "    </tr>\n",
       "    <tr>\n",
       "      <th>2</th>\n",
       "      <td>iso1:af</td>\n",
       "      <td>af</td>\n",
       "      <td>AF</td>\n",
       "      <td>country</td>\n",
       "      <td>Afghanistan</td>\n",
       "      <td>349837.0</td>\n",
       "      <td>Asia/Kabul</td>\n",
       "      <td>0</td>\n",
       "      <td>0.0</td>\n",
       "      <td>0.0</td>\n",
       "      <td>...</td>\n",
       "      <td>37015.0</td>\n",
       "      <td>37054.0</td>\n",
       "      <td>37054.0</td>\n",
       "      <td>37162.0</td>\n",
       "      <td>37269.0</td>\n",
       "      <td>37269.0</td>\n",
       "      <td>37269.0</td>\n",
       "      <td>37269.0</td>\n",
       "      <td>2020-08-14T02:02:03</td>\n",
       "      <td>NaN</td>\n",
       "    </tr>\n",
       "    <tr>\n",
       "      <th>3</th>\n",
       "      <td>iso1:ag</td>\n",
       "      <td>ag</td>\n",
       "      <td>AG</td>\n",
       "      <td>country</td>\n",
       "      <td>Antigua and Barbuda</td>\n",
       "      <td>12.0</td>\n",
       "      <td>America/Antigua</td>\n",
       "      <td>0</td>\n",
       "      <td>0.0</td>\n",
       "      <td>0.0</td>\n",
       "      <td>...</td>\n",
       "      <td>92.0</td>\n",
       "      <td>92.0</td>\n",
       "      <td>92.0</td>\n",
       "      <td>92.0</td>\n",
       "      <td>92.0</td>\n",
       "      <td>92.0</td>\n",
       "      <td>92.0</td>\n",
       "      <td>92.0</td>\n",
       "      <td>2020-08-14T02:02:03</td>\n",
       "      <td>NaN</td>\n",
       "    </tr>\n",
       "    <tr>\n",
       "      <th>4</th>\n",
       "      <td>iso1:al</td>\n",
       "      <td>al</td>\n",
       "      <td>AL</td>\n",
       "      <td>country</td>\n",
       "      <td>Albania</td>\n",
       "      <td>2873457.0</td>\n",
       "      <td>Europe/Tirane</td>\n",
       "      <td>0</td>\n",
       "      <td>0.0</td>\n",
       "      <td>0.0</td>\n",
       "      <td>...</td>\n",
       "      <td>6151.0</td>\n",
       "      <td>6275.0</td>\n",
       "      <td>6411.0</td>\n",
       "      <td>6536.0</td>\n",
       "      <td>6676.0</td>\n",
       "      <td>6676.0</td>\n",
       "      <td>6676.0</td>\n",
       "      <td>6676.0</td>\n",
       "      <td>2020-08-14T02:02:03</td>\n",
       "      <td>NaN</td>\n",
       "    </tr>\n",
       "  </tbody>\n",
       "</table>\n",
       "<p>5 rows × 215 columns</p>\n",
       "</div>"
      ],
      "text/plain": [
       "  locationid slug name    level               country  population  \\\n",
       "0    iso1:ad   ad   AD  country               Andorra     76177.0   \n",
       "1    iso1:ae   ae   AE  country  United Arab Emirates     90145.0   \n",
       "2    iso1:af   af   AF  country           Afghanistan    349837.0   \n",
       "3    iso1:ag   ag   AG  country   Antigua and Barbuda        12.0   \n",
       "4    iso1:al   al   AL  country               Albania   2873457.0   \n",
       "\n",
       "                tz  2020_01_22  2020_01_23  2020_01_24  ...  2020_08_07  \\\n",
       "0   Europe/Andorra           0         0.0         0.0  ...       955.0   \n",
       "1       Asia/Dubai           0         0.0         0.0  ...     62061.0   \n",
       "2       Asia/Kabul           0         0.0         0.0  ...     37015.0   \n",
       "3  America/Antigua           0         0.0         0.0  ...        92.0   \n",
       "4    Europe/Tirane           0         0.0         0.0  ...      6151.0   \n",
       "\n",
       "   2020_08_08  2020_08_09  2020_08_10  2020_08_11  2020_08_12  2020_08_13  \\\n",
       "0       955.0       955.0       963.0       963.0       963.0       963.0   \n",
       "1     62300.0     62525.0     62704.0     62966.0     62966.0     62966.0   \n",
       "2     37054.0     37054.0     37162.0     37269.0     37269.0     37269.0   \n",
       "3        92.0        92.0        92.0        92.0        92.0        92.0   \n",
       "4      6275.0      6411.0      6536.0      6676.0      6676.0      6676.0   \n",
       "\n",
       "   2020_08_14      last_updated_at  state_fips  \n",
       "0       963.0  2020-08-14T02:02:03         NaN  \n",
       "1     62966.0  2020-08-14T02:02:03         NaN  \n",
       "2     37269.0  2020-08-14T02:02:03         NaN  \n",
       "3        92.0  2020-08-14T02:02:03         NaN  \n",
       "4      6676.0  2020-08-14T02:02:03         NaN  \n",
       "\n",
       "[5 rows x 215 columns]"
      ]
     },
     "execution_count": 19,
     "metadata": {},
     "output_type": "execute_result"
    }
   ],
   "source": [
    "corona = corona[corona['level']=='country']\n",
    "corona.head()"
   ]
  },
  {
   "cell_type": "code",
   "execution_count": 20,
   "metadata": {},
   "outputs": [],
   "source": [
    "corona=corona.fillna(method='ffill',axis='columns')"
   ]
  },
  {
   "cell_type": "code",
   "execution_count": 22,
   "metadata": {},
   "outputs": [],
   "source": [
    "corona = corona.groupby('country').sum()"
   ]
  },
  {
   "cell_type": "code",
   "execution_count": 23,
   "metadata": {},
   "outputs": [
    {
     "data": {
      "text/plain": [
       "True"
      ]
     },
     "execution_count": 23,
     "metadata": {},
     "output_type": "execute_result"
    }
   ],
   "source": [
    "'United States' in corona.index"
   ]
  },
  {
   "cell_type": "code",
   "execution_count": 26,
   "metadata": {
    "scrolled": true
   },
   "outputs": [
    {
     "data": {
      "text/html": [
       "<div>\n",
       "<style scoped>\n",
       "    .dataframe tbody tr th:only-of-type {\n",
       "        vertical-align: middle;\n",
       "    }\n",
       "\n",
       "    .dataframe tbody tr th {\n",
       "        vertical-align: top;\n",
       "    }\n",
       "\n",
       "    .dataframe thead th {\n",
       "        text-align: right;\n",
       "    }\n",
       "</style>\n",
       "<table border=\"1\" class=\"dataframe\">\n",
       "  <thead>\n",
       "    <tr style=\"text-align: right;\">\n",
       "      <th>country</th>\n",
       "      <th>Afghanistan</th>\n",
       "      <th>Albania</th>\n",
       "      <th>Algeria</th>\n",
       "      <th>Andorra</th>\n",
       "      <th>Angola</th>\n",
       "      <th>Antigua and Barbuda</th>\n",
       "      <th>Argentina</th>\n",
       "      <th>Armenia</th>\n",
       "      <th>Australia</th>\n",
       "      <th>Austria</th>\n",
       "      <th>...</th>\n",
       "      <th>United States</th>\n",
       "      <th>United States Virgin Islands</th>\n",
       "      <th>Uruguay</th>\n",
       "      <th>Uzbekistan</th>\n",
       "      <th>Vatican City</th>\n",
       "      <th>Venezuela</th>\n",
       "      <th>Vietnam</th>\n",
       "      <th>Yemen</th>\n",
       "      <th>Zambia</th>\n",
       "      <th>Zimbabwe</th>\n",
       "    </tr>\n",
       "  </thead>\n",
       "  <tbody>\n",
       "    <tr>\n",
       "      <th>2020_08_08</th>\n",
       "      <td>37054.0</td>\n",
       "      <td>6275.0</td>\n",
       "      <td>34693.0</td>\n",
       "      <td>955.0</td>\n",
       "      <td>1572.0</td>\n",
       "      <td>92.0</td>\n",
       "      <td>241811.0</td>\n",
       "      <td>40185.0</td>\n",
       "      <td>20272.0</td>\n",
       "      <td>21936.0</td>\n",
       "      <td>...</td>\n",
       "      <td>4967754.0</td>\n",
       "      <td>528.0</td>\n",
       "      <td>1335.0</td>\n",
       "      <td>29652.0</td>\n",
       "      <td>12.0</td>\n",
       "      <td>24961.0</td>\n",
       "      <td>351.0</td>\n",
       "      <td>1797.0</td>\n",
       "      <td>7903.0</td>\n",
       "      <td>4575.0</td>\n",
       "    </tr>\n",
       "    <tr>\n",
       "      <th>2020_08_09</th>\n",
       "      <td>37054.0</td>\n",
       "      <td>6411.0</td>\n",
       "      <td>35160.0</td>\n",
       "      <td>955.0</td>\n",
       "      <td>1672.0</td>\n",
       "      <td>92.0</td>\n",
       "      <td>246499.0</td>\n",
       "      <td>40410.0</td>\n",
       "      <td>20698.0</td>\n",
       "      <td>22024.0</td>\n",
       "      <td>...</td>\n",
       "      <td>5019073.0</td>\n",
       "      <td>528.0</td>\n",
       "      <td>1353.0</td>\n",
       "      <td>30609.0</td>\n",
       "      <td>12.0</td>\n",
       "      <td>25805.0</td>\n",
       "      <td>351.0</td>\n",
       "      <td>1804.0</td>\n",
       "      <td>8085.0</td>\n",
       "      <td>4649.0</td>\n",
       "    </tr>\n",
       "    <tr>\n",
       "      <th>2020_08_10</th>\n",
       "      <td>37162.0</td>\n",
       "      <td>6536.0</td>\n",
       "      <td>35712.0</td>\n",
       "      <td>963.0</td>\n",
       "      <td>1679.0</td>\n",
       "      <td>92.0</td>\n",
       "      <td>253868.0</td>\n",
       "      <td>40433.0</td>\n",
       "      <td>21084.0</td>\n",
       "      <td>22122.0</td>\n",
       "      <td>...</td>\n",
       "      <td>5060880.0</td>\n",
       "      <td>547.0</td>\n",
       "      <td>1364.0</td>\n",
       "      <td>31304.0</td>\n",
       "      <td>12.0</td>\n",
       "      <td>26800.0</td>\n",
       "      <td>351.0</td>\n",
       "      <td>1832.0</td>\n",
       "      <td>8210.0</td>\n",
       "      <td>4748.0</td>\n",
       "    </tr>\n",
       "    <tr>\n",
       "      <th>2020_08_11</th>\n",
       "      <td>37269.0</td>\n",
       "      <td>6676.0</td>\n",
       "      <td>36204.0</td>\n",
       "      <td>963.0</td>\n",
       "      <td>1735.0</td>\n",
       "      <td>92.0</td>\n",
       "      <td>260911.0</td>\n",
       "      <td>40593.0</td>\n",
       "      <td>21397.0</td>\n",
       "      <td>22313.0</td>\n",
       "      <td>...</td>\n",
       "      <td>5116474.0</td>\n",
       "      <td>576.0</td>\n",
       "      <td>1385.0</td>\n",
       "      <td>31747.0</td>\n",
       "      <td>12.0</td>\n",
       "      <td>27938.0</td>\n",
       "      <td>351.0</td>\n",
       "      <td>1831.0</td>\n",
       "      <td>8275.0</td>\n",
       "      <td>4818.0</td>\n",
       "    </tr>\n",
       "    <tr>\n",
       "      <th>2020_08_12</th>\n",
       "      <td>37269.0</td>\n",
       "      <td>6676.0</td>\n",
       "      <td>36204.0</td>\n",
       "      <td>963.0</td>\n",
       "      <td>1735.0</td>\n",
       "      <td>92.0</td>\n",
       "      <td>260911.0</td>\n",
       "      <td>40593.0</td>\n",
       "      <td>21713.0</td>\n",
       "      <td>22459.0</td>\n",
       "      <td>...</td>\n",
       "      <td>5172216.0</td>\n",
       "      <td>639.0</td>\n",
       "      <td>1385.0</td>\n",
       "      <td>31747.0</td>\n",
       "      <td>12.0</td>\n",
       "      <td>27938.0</td>\n",
       "      <td>351.0</td>\n",
       "      <td>1831.0</td>\n",
       "      <td>8275.0</td>\n",
       "      <td>4818.0</td>\n",
       "    </tr>\n",
       "  </tbody>\n",
       "</table>\n",
       "<p>5 rows × 197 columns</p>\n",
       "</div>"
      ],
      "text/plain": [
       "country     Afghanistan  Albania  Algeria  Andorra  Angola  \\\n",
       "2020_08_08      37054.0   6275.0  34693.0    955.0  1572.0   \n",
       "2020_08_09      37054.0   6411.0  35160.0    955.0  1672.0   \n",
       "2020_08_10      37162.0   6536.0  35712.0    963.0  1679.0   \n",
       "2020_08_11      37269.0   6676.0  36204.0    963.0  1735.0   \n",
       "2020_08_12      37269.0   6676.0  36204.0    963.0  1735.0   \n",
       "\n",
       "country     Antigua and Barbuda  Argentina  Armenia  Australia  Austria  ...  \\\n",
       "2020_08_08                 92.0   241811.0  40185.0    20272.0  21936.0  ...   \n",
       "2020_08_09                 92.0   246499.0  40410.0    20698.0  22024.0  ...   \n",
       "2020_08_10                 92.0   253868.0  40433.0    21084.0  22122.0  ...   \n",
       "2020_08_11                 92.0   260911.0  40593.0    21397.0  22313.0  ...   \n",
       "2020_08_12                 92.0   260911.0  40593.0    21713.0  22459.0  ...   \n",
       "\n",
       "country     United States  United States Virgin Islands  Uruguay  Uzbekistan  \\\n",
       "2020_08_08      4967754.0                         528.0   1335.0     29652.0   \n",
       "2020_08_09      5019073.0                         528.0   1353.0     30609.0   \n",
       "2020_08_10      5060880.0                         547.0   1364.0     31304.0   \n",
       "2020_08_11      5116474.0                         576.0   1385.0     31747.0   \n",
       "2020_08_12      5172216.0                         639.0   1385.0     31747.0   \n",
       "\n",
       "country     Vatican City  Venezuela  Vietnam   Yemen  Zambia  Zimbabwe  \n",
       "2020_08_08          12.0    24961.0    351.0  1797.0  7903.0    4575.0  \n",
       "2020_08_09          12.0    25805.0    351.0  1804.0  8085.0    4649.0  \n",
       "2020_08_10          12.0    26800.0    351.0  1832.0  8210.0    4748.0  \n",
       "2020_08_11          12.0    27938.0    351.0  1831.0  8275.0    4818.0  \n",
       "2020_08_12          12.0    27938.0    351.0  1831.0  8275.0    4818.0  \n",
       "\n",
       "[5 rows x 197 columns]"
      ]
     },
     "execution_count": 26,
     "metadata": {},
     "output_type": "execute_result"
    }
   ],
   "source": [
    "cases = corona[corona.columns[6:210]].T\n",
    "cases.tail()"
   ]
  },
  {
   "cell_type": "code",
   "execution_count": 10,
   "metadata": {},
   "outputs": [
    {
     "name": "stdout",
     "output_type": "stream",
     "text": [
      "Index(['Afghanistan', 'Albania', 'Algeria', 'Andorra', 'Angola',\n",
      "       'Antigua and Barbuda', 'Argentina', 'Armenia', 'Azerbaijan', 'Bahrain',\n",
      "       ...\n",
      "       'United Arab Emirates', 'United States Virgin Islands', 'Uruguay',\n",
      "       'Uzbekistan', 'Vatican City', 'Venezuela', 'Vietnam', 'Yemen', 'Zambia',\n",
      "       'Zimbabwe'],\n",
      "      dtype='object', name='country', length=161)\n"
     ]
    }
   ],
   "source": [
    "print(cases.columns)"
   ]
  },
  {
   "cell_type": "code",
   "execution_count": 11,
   "metadata": {},
   "outputs": [
    {
     "data": {
      "text/plain": [
       "<matplotlib.axes._subplots.AxesSubplot at 0x1bb2ebdd548>"
      ]
     },
     "execution_count": 11,
     "metadata": {},
     "output_type": "execute_result"
    },
    {
     "data": {
      "image/png": "[encoded data removed]",
      "text/plain": [
       "<Figure size 432x288 with 1 Axes>"
      ]
     },
     "metadata": {
      "needs_background": "light"
     },
     "output_type": "display_data"
    }
   ],
   "source": [
    "cases['Uruguay'].plot()"
   ]
  },
  {
   "cell_type": "code",
   "execution_count": 31,
   "metadata": {},
   "outputs": [
    {
     "data": {
      "text/plain": [
       "<matplotlib.axes._subplots.AxesSubplot at 0x1bb36736fc8>"
      ]
     },
     "execution_count": 31,
     "metadata": {},
     "output_type": "execute_result"
    },
    {
     "data": {
      "image/png": "[encoded data removed]",
      "text/plain": [
       "<Figure size 1152x288 with 1 Axes>"
      ]
     },
     "metadata": {
      "needs_background": "light"
     },
     "output_type": "display_data"
    }
   ],
   "source": [
    "cases[['United States','India', 'Brazil','Russia','South Africa']].plot(figsize=(16,4), title='Cases for top 5 countries')"
   ]
  },
  {
   "cell_type": "code",
   "execution_count": 39,
   "metadata": {},
   "outputs": [
    {
     "data": {
      "text/plain": [
       "country\n",
       "Afghanistan      349837\n",
       "Albania         2873457\n",
       "Algeria        41318142\n",
       "Andorra           76177\n",
       "Angola         29784193\n",
       "                 ...   \n",
       "Venezuela      28515829\n",
       "Vietnam            9460\n",
       "Yemen              2824\n",
       "Zambia             1941\n",
       "Zimbabwe         165294\n",
       "Name: population, Length: 197, dtype: int32"
      ]
     },
     "execution_count": 39,
     "metadata": {},
     "output_type": "execute_result"
    }
   ],
   "source": [
    "pop = corona['population'].astype(int)"
   ]
  },
  {
   "cell_type": "code",
   "execution_count": null,
   "metadata": {},
   "outputs": [],
   "source": []
  }
 ],
 "metadata": {
  "kernelspec": {
   "display_name": "Python 3",
   "language": "python",
   "name": "python3"
  },
  "language_info": {
   "codemirror_mode": {
    "name": "ipython",
    "version": 3
   },
   "file_extension": ".py",
   "mimetype": "text/x-python",
   "name": "python",
   "nbconvert_exporter": "python",
   "pygments_lexer": "ipython3",
   "version": "3.7.6"
  }
 },
 "nbformat": 4,
 "nbformat_minor": 4
}
