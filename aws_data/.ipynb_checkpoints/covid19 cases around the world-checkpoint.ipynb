{
 "cells": [
  {
   "cell_type": "code",
   "execution_count": 17,
   "metadata": {},
   "outputs": [],
   "source": [
    "import pandas as pd\n",
    "corona = pd.read_csv('coronadatascraper-timeseries_jhu__202008140200__202008140200.csv')\n",
    "bed = pd.read_csv('usa-hospital-beds_dataset_usa-hospital-beds.csv')\n",
    "death = pd.read_csv('nchs-death-rates-and-life-expectancy-at-birth_dataset_nchs-death-rates-and-life-expectancy-at-birth.csv')\n",
    "motor = pd.read_csv('motor-vehicle-occupant-death-rate_dataset_motor-vehicle-occupant-death-rate.csv')"
   ]
  },
  {
   "cell_type": "code",
   "execution_count": 2,
   "metadata": {},
   "outputs": [
    {
     "data": {
      "text/html": [
       "<div>\n",
       "<style scoped>\n",
       "    .dataframe tbody tr th:only-of-type {\n",
       "        vertical-align: middle;\n",
       "    }\n",
       "\n",
       "    .dataframe tbody tr th {\n",
       "        vertical-align: top;\n",
       "    }\n",
       "\n",
       "    .dataframe thead th {\n",
       "        text-align: right;\n",
       "    }\n",
       "</style>\n",
       "<table border=\"1\" class=\"dataframe\">\n",
       "  <thead>\n",
       "    <tr style=\"text-align: right;\">\n",
       "      <th></th>\n",
       "      <th>locationid</th>\n",
       "      <th>slug</th>\n",
       "      <th>name</th>\n",
       "      <th>level</th>\n",
       "      <th>country</th>\n",
       "      <th>population</th>\n",
       "      <th>tz</th>\n",
       "      <th>2020_01_22</th>\n",
       "      <th>2020_01_23</th>\n",
       "      <th>2020_01_24</th>\n",
       "      <th>...</th>\n",
       "      <th>2020_08_07</th>\n",
       "      <th>2020_08_08</th>\n",
       "      <th>2020_08_09</th>\n",
       "      <th>2020_08_10</th>\n",
       "      <th>2020_08_11</th>\n",
       "      <th>2020_08_12</th>\n",
       "      <th>2020_08_13</th>\n",
       "      <th>2020_08_14</th>\n",
       "      <th>last_updated_at</th>\n",
       "      <th>state_fips</th>\n",
       "    </tr>\n",
       "  </thead>\n",
       "  <tbody>\n",
       "    <tr>\n",
       "      <th>0</th>\n",
       "      <td>iso1:ad</td>\n",
       "      <td>ad</td>\n",
       "      <td>AD</td>\n",
       "      <td>country</td>\n",
       "      <td>Andorra</td>\n",
       "      <td>76177.0</td>\n",
       "      <td>Europe/Andorra</td>\n",
       "      <td>0</td>\n",
       "      <td>0.0</td>\n",
       "      <td>0.0</td>\n",
       "      <td>...</td>\n",
       "      <td>955.0</td>\n",
       "      <td>955.0</td>\n",
       "      <td>955.0</td>\n",
       "      <td>963.0</td>\n",
       "      <td>963.0</td>\n",
       "      <td>963.0</td>\n",
       "      <td>963.0</td>\n",
       "      <td>963.0</td>\n",
       "      <td>2020-08-14T02:02:03</td>\n",
       "      <td>NaN</td>\n",
       "    </tr>\n",
       "    <tr>\n",
       "      <th>1</th>\n",
       "      <td>iso1:ae</td>\n",
       "      <td>ae</td>\n",
       "      <td>AE</td>\n",
       "      <td>country</td>\n",
       "      <td>United Arab Emirates</td>\n",
       "      <td>90145.0</td>\n",
       "      <td>Asia/Dubai</td>\n",
       "      <td>0</td>\n",
       "      <td>0.0</td>\n",
       "      <td>0.0</td>\n",
       "      <td>...</td>\n",
       "      <td>62061.0</td>\n",
       "      <td>62300.0</td>\n",
       "      <td>62525.0</td>\n",
       "      <td>62704.0</td>\n",
       "      <td>62966.0</td>\n",
       "      <td>62966.0</td>\n",
       "      <td>62966.0</td>\n",
       "      <td>62966.0</td>\n",
       "      <td>2020-08-14T02:02:03</td>\n",
       "      <td>NaN</td>\n",
       "    </tr>\n",
       "    <tr>\n",
       "      <th>2</th>\n",
       "      <td>iso1:af</td>\n",
       "      <td>af</td>\n",
       "      <td>AF</td>\n",
       "      <td>country</td>\n",
       "      <td>Afghanistan</td>\n",
       "      <td>349837.0</td>\n",
       "      <td>Asia/Kabul</td>\n",
       "      <td>0</td>\n",
       "      <td>0.0</td>\n",
       "      <td>0.0</td>\n",
       "      <td>...</td>\n",
       "      <td>37015.0</td>\n",
       "      <td>37054.0</td>\n",
       "      <td>37054.0</td>\n",
       "      <td>37162.0</td>\n",
       "      <td>37269.0</td>\n",
       "      <td>37269.0</td>\n",
       "      <td>37269.0</td>\n",
       "      <td>37269.0</td>\n",
       "      <td>2020-08-14T02:02:03</td>\n",
       "      <td>NaN</td>\n",
       "    </tr>\n",
       "    <tr>\n",
       "      <th>3</th>\n",
       "      <td>iso1:ag</td>\n",
       "      <td>ag</td>\n",
       "      <td>AG</td>\n",
       "      <td>country</td>\n",
       "      <td>Antigua and Barbuda</td>\n",
       "      <td>12.0</td>\n",
       "      <td>America/Antigua</td>\n",
       "      <td>0</td>\n",
       "      <td>0.0</td>\n",
       "      <td>0.0</td>\n",
       "      <td>...</td>\n",
       "      <td>92.0</td>\n",
       "      <td>92.0</td>\n",
       "      <td>92.0</td>\n",
       "      <td>92.0</td>\n",
       "      <td>92.0</td>\n",
       "      <td>92.0</td>\n",
       "      <td>92.0</td>\n",
       "      <td>92.0</td>\n",
       "      <td>2020-08-14T02:02:03</td>\n",
       "      <td>NaN</td>\n",
       "    </tr>\n",
       "    <tr>\n",
       "      <th>4</th>\n",
       "      <td>iso1:al</td>\n",
       "      <td>al</td>\n",
       "      <td>AL</td>\n",
       "      <td>country</td>\n",
       "      <td>Albania</td>\n",
       "      <td>2873457.0</td>\n",
       "      <td>Europe/Tirane</td>\n",
       "      <td>0</td>\n",
       "      <td>0.0</td>\n",
       "      <td>0.0</td>\n",
       "      <td>...</td>\n",
       "      <td>6151.0</td>\n",
       "      <td>6275.0</td>\n",
       "      <td>6411.0</td>\n",
       "      <td>6536.0</td>\n",
       "      <td>6676.0</td>\n",
       "      <td>6676.0</td>\n",
       "      <td>6676.0</td>\n",
       "      <td>6676.0</td>\n",
       "      <td>2020-08-14T02:02:03</td>\n",
       "      <td>NaN</td>\n",
       "    </tr>\n",
       "  </tbody>\n",
       "</table>\n",
       "<p>5 rows × 215 columns</p>\n",
       "</div>"
      ],
      "text/plain": [
       "  locationid slug name    level               country  population  \\\n",
       "0    iso1:ad   ad   AD  country               Andorra     76177.0   \n",
       "1    iso1:ae   ae   AE  country  United Arab Emirates     90145.0   \n",
       "2    iso1:af   af   AF  country           Afghanistan    349837.0   \n",
       "3    iso1:ag   ag   AG  country   Antigua and Barbuda        12.0   \n",
       "4    iso1:al   al   AL  country               Albania   2873457.0   \n",
       "\n",
       "                tz  2020_01_22  2020_01_23  2020_01_24  ...  2020_08_07  \\\n",
       "0   Europe/Andorra           0         0.0         0.0  ...       955.0   \n",
       "1       Asia/Dubai           0         0.0         0.0  ...     62061.0   \n",
       "2       Asia/Kabul           0         0.0         0.0  ...     37015.0   \n",
       "3  America/Antigua           0         0.0         0.0  ...        92.0   \n",
       "4    Europe/Tirane           0         0.0         0.0  ...      6151.0   \n",
       "\n",
       "   2020_08_08  2020_08_09  2020_08_10  2020_08_11  2020_08_12  2020_08_13  \\\n",
       "0       955.0       955.0       963.0       963.0       963.0       963.0   \n",
       "1     62300.0     62525.0     62704.0     62966.0     62966.0     62966.0   \n",
       "2     37054.0     37054.0     37162.0     37269.0     37269.0     37269.0   \n",
       "3        92.0        92.0        92.0        92.0        92.0        92.0   \n",
       "4      6275.0      6411.0      6536.0      6676.0      6676.0      6676.0   \n",
       "\n",
       "   2020_08_14      last_updated_at  state_fips  \n",
       "0       963.0  2020-08-14T02:02:03         NaN  \n",
       "1     62966.0  2020-08-14T02:02:03         NaN  \n",
       "2     37269.0  2020-08-14T02:02:03         NaN  \n",
       "3        92.0  2020-08-14T02:02:03         NaN  \n",
       "4      6676.0  2020-08-14T02:02:03         NaN  \n",
       "\n",
       "[5 rows x 215 columns]"
      ]
     },
     "execution_count": 2,
     "metadata": {},
     "output_type": "execute_result"
    }
   ],
   "source": [
    "corona = corona[corona['level']=='country']\n",
    "corona.head()"
   ]
  },
  {
   "cell_type": "code",
   "execution_count": 3,
   "metadata": {},
   "outputs": [],
   "source": [
    "corona=corona.fillna(method='ffill',axis='columns')"
   ]
  },
  {
   "cell_type": "code",
   "execution_count": 4,
   "metadata": {},
   "outputs": [],
   "source": [
    "corona = corona.groupby('country').sum()"
   ]
  },
  {
   "cell_type": "code",
   "execution_count": 5,
   "metadata": {},
   "outputs": [
    {
     "data": {
      "text/plain": [
       "True"
      ]
     },
     "execution_count": 5,
     "metadata": {},
     "output_type": "execute_result"
    }
   ],
   "source": [
    "'United States' in corona.index"
   ]
  },
  {
   "cell_type": "code",
   "execution_count": 6,
   "metadata": {
    "scrolled": true
   },
   "outputs": [
    {
     "data": {
      "text/html": [
       "<div>\n",
       "<style scoped>\n",
       "    .dataframe tbody tr th:only-of-type {\n",
       "        vertical-align: middle;\n",
       "    }\n",
       "\n",
       "    .dataframe tbody tr th {\n",
       "        vertical-align: top;\n",
       "    }\n",
       "\n",
       "    .dataframe thead th {\n",
       "        text-align: right;\n",
       "    }\n",
       "</style>\n",
       "<table border=\"1\" class=\"dataframe\">\n",
       "  <thead>\n",
       "    <tr style=\"text-align: right;\">\n",
       "      <th>country</th>\n",
       "      <th>Afghanistan</th>\n",
       "      <th>Albania</th>\n",
       "      <th>Algeria</th>\n",
       "      <th>Andorra</th>\n",
       "      <th>Angola</th>\n",
       "      <th>Antigua and Barbuda</th>\n",
       "      <th>Argentina</th>\n",
       "      <th>Armenia</th>\n",
       "      <th>Australia</th>\n",
       "      <th>Austria</th>\n",
       "      <th>...</th>\n",
       "      <th>United States</th>\n",
       "      <th>United States Virgin Islands</th>\n",
       "      <th>Uruguay</th>\n",
       "      <th>Uzbekistan</th>\n",
       "      <th>Vatican City</th>\n",
       "      <th>Venezuela</th>\n",
       "      <th>Vietnam</th>\n",
       "      <th>Yemen</th>\n",
       "      <th>Zambia</th>\n",
       "      <th>Zimbabwe</th>\n",
       "    </tr>\n",
       "  </thead>\n",
       "  <tbody>\n",
       "    <tr>\n",
       "      <th>2020_08_08</th>\n",
       "      <td>37054.0</td>\n",
       "      <td>6275.0</td>\n",
       "      <td>34693.0</td>\n",
       "      <td>955.0</td>\n",
       "      <td>1572.0</td>\n",
       "      <td>92.0</td>\n",
       "      <td>241811.0</td>\n",
       "      <td>40185.0</td>\n",
       "      <td>20272.0</td>\n",
       "      <td>21936.0</td>\n",
       "      <td>...</td>\n",
       "      <td>4967754.0</td>\n",
       "      <td>528.0</td>\n",
       "      <td>1335.0</td>\n",
       "      <td>29652.0</td>\n",
       "      <td>12.0</td>\n",
       "      <td>24961.0</td>\n",
       "      <td>351.0</td>\n",
       "      <td>1797.0</td>\n",
       "      <td>7903.0</td>\n",
       "      <td>4575.0</td>\n",
       "    </tr>\n",
       "    <tr>\n",
       "      <th>2020_08_09</th>\n",
       "      <td>37054.0</td>\n",
       "      <td>6411.0</td>\n",
       "      <td>35160.0</td>\n",
       "      <td>955.0</td>\n",
       "      <td>1672.0</td>\n",
       "      <td>92.0</td>\n",
       "      <td>246499.0</td>\n",
       "      <td>40410.0</td>\n",
       "      <td>20698.0</td>\n",
       "      <td>22024.0</td>\n",
       "      <td>...</td>\n",
       "      <td>5019073.0</td>\n",
       "      <td>528.0</td>\n",
       "      <td>1353.0</td>\n",
       "      <td>30609.0</td>\n",
       "      <td>12.0</td>\n",
       "      <td>25805.0</td>\n",
       "      <td>351.0</td>\n",
       "      <td>1804.0</td>\n",
       "      <td>8085.0</td>\n",
       "      <td>4649.0</td>\n",
       "    </tr>\n",
       "    <tr>\n",
       "      <th>2020_08_10</th>\n",
       "      <td>37162.0</td>\n",
       "      <td>6536.0</td>\n",
       "      <td>35712.0</td>\n",
       "      <td>963.0</td>\n",
       "      <td>1679.0</td>\n",
       "      <td>92.0</td>\n",
       "      <td>253868.0</td>\n",
       "      <td>40433.0</td>\n",
       "      <td>21084.0</td>\n",
       "      <td>22122.0</td>\n",
       "      <td>...</td>\n",
       "      <td>5060880.0</td>\n",
       "      <td>547.0</td>\n",
       "      <td>1364.0</td>\n",
       "      <td>31304.0</td>\n",
       "      <td>12.0</td>\n",
       "      <td>26800.0</td>\n",
       "      <td>351.0</td>\n",
       "      <td>1832.0</td>\n",
       "      <td>8210.0</td>\n",
       "      <td>4748.0</td>\n",
       "    </tr>\n",
       "    <tr>\n",
       "      <th>2020_08_11</th>\n",
       "      <td>37269.0</td>\n",
       "      <td>6676.0</td>\n",
       "      <td>36204.0</td>\n",
       "      <td>963.0</td>\n",
       "      <td>1735.0</td>\n",
       "      <td>92.0</td>\n",
       "      <td>260911.0</td>\n",
       "      <td>40593.0</td>\n",
       "      <td>21397.0</td>\n",
       "      <td>22313.0</td>\n",
       "      <td>...</td>\n",
       "      <td>5116474.0</td>\n",
       "      <td>576.0</td>\n",
       "      <td>1385.0</td>\n",
       "      <td>31747.0</td>\n",
       "      <td>12.0</td>\n",
       "      <td>27938.0</td>\n",
       "      <td>351.0</td>\n",
       "      <td>1831.0</td>\n",
       "      <td>8275.0</td>\n",
       "      <td>4818.0</td>\n",
       "    </tr>\n",
       "    <tr>\n",
       "      <th>2020_08_12</th>\n",
       "      <td>37269.0</td>\n",
       "      <td>6676.0</td>\n",
       "      <td>36204.0</td>\n",
       "      <td>963.0</td>\n",
       "      <td>1735.0</td>\n",
       "      <td>92.0</td>\n",
       "      <td>260911.0</td>\n",
       "      <td>40593.0</td>\n",
       "      <td>21713.0</td>\n",
       "      <td>22459.0</td>\n",
       "      <td>...</td>\n",
       "      <td>5172216.0</td>\n",
       "      <td>639.0</td>\n",
       "      <td>1385.0</td>\n",
       "      <td>31747.0</td>\n",
       "      <td>12.0</td>\n",
       "      <td>27938.0</td>\n",
       "      <td>351.0</td>\n",
       "      <td>1831.0</td>\n",
       "      <td>8275.0</td>\n",
       "      <td>4818.0</td>\n",
       "    </tr>\n",
       "  </tbody>\n",
       "</table>\n",
       "<p>5 rows × 197 columns</p>\n",
       "</div>"
      ],
      "text/plain": [
       "country     Afghanistan  Albania  Algeria  Andorra  Angola  \\\n",
       "2020_08_08      37054.0   6275.0  34693.0    955.0  1572.0   \n",
       "2020_08_09      37054.0   6411.0  35160.0    955.0  1672.0   \n",
       "2020_08_10      37162.0   6536.0  35712.0    963.0  1679.0   \n",
       "2020_08_11      37269.0   6676.0  36204.0    963.0  1735.0   \n",
       "2020_08_12      37269.0   6676.0  36204.0    963.0  1735.0   \n",
       "\n",
       "country     Antigua and Barbuda  Argentina  Armenia  Australia  Austria  ...  \\\n",
       "2020_08_08                 92.0   241811.0  40185.0    20272.0  21936.0  ...   \n",
       "2020_08_09                 92.0   246499.0  40410.0    20698.0  22024.0  ...   \n",
       "2020_08_10                 92.0   253868.0  40433.0    21084.0  22122.0  ...   \n",
       "2020_08_11                 92.0   260911.0  40593.0    21397.0  22313.0  ...   \n",
       "2020_08_12                 92.0   260911.0  40593.0    21713.0  22459.0  ...   \n",
       "\n",
       "country     United States  United States Virgin Islands  Uruguay  Uzbekistan  \\\n",
       "2020_08_08      4967754.0                         528.0   1335.0     29652.0   \n",
       "2020_08_09      5019073.0                         528.0   1353.0     30609.0   \n",
       "2020_08_10      5060880.0                         547.0   1364.0     31304.0   \n",
       "2020_08_11      5116474.0                         576.0   1385.0     31747.0   \n",
       "2020_08_12      5172216.0                         639.0   1385.0     31747.0   \n",
       "\n",
       "country     Vatican City  Venezuela  Vietnam   Yemen  Zambia  Zimbabwe  \n",
       "2020_08_08          12.0    24961.0    351.0  1797.0  7903.0    4575.0  \n",
       "2020_08_09          12.0    25805.0    351.0  1804.0  8085.0    4649.0  \n",
       "2020_08_10          12.0    26800.0    351.0  1832.0  8210.0    4748.0  \n",
       "2020_08_11          12.0    27938.0    351.0  1831.0  8275.0    4818.0  \n",
       "2020_08_12          12.0    27938.0    351.0  1831.0  8275.0    4818.0  \n",
       "\n",
       "[5 rows x 197 columns]"
      ]
     },
     "execution_count": 6,
     "metadata": {},
     "output_type": "execute_result"
    }
   ],
   "source": [
    "cases = corona[corona.columns[6:210]].T\n",
    "cases.tail()"
   ]
  },
  {
   "cell_type": "code",
   "execution_count": 7,
   "metadata": {},
   "outputs": [
    {
     "name": "stdout",
     "output_type": "stream",
     "text": [
      "Index(['Afghanistan', 'Albania', 'Algeria', 'Andorra', 'Angola',\n",
      "       'Antigua and Barbuda', 'Argentina', 'Armenia', 'Australia', 'Austria',\n",
      "       ...\n",
      "       'United States', 'United States Virgin Islands', 'Uruguay',\n",
      "       'Uzbekistan', 'Vatican City', 'Venezuela', 'Vietnam', 'Yemen', 'Zambia',\n",
      "       'Zimbabwe'],\n",
      "      dtype='object', name='country', length=197)\n"
     ]
    }
   ],
   "source": [
    "print(cases.columns)"
   ]
  },
  {
   "cell_type": "code",
   "execution_count": 8,
   "metadata": {},
   "outputs": [
    {
     "data": {
      "text/plain": [
       "<matplotlib.axes._subplots.AxesSubplot at 0x23cd2402708>"
      ]
     },
     "execution_count": 8,
     "metadata": {},
     "output_type": "execute_result"
    },
    {
     "data": {
      "image/png": "[encoded data removed]",
      "text/plain": [
       "<Figure size 432x288 with 1 Axes>"
      ]
     },
     "metadata": {
      "needs_background": "light"
     },
     "output_type": "display_data"
    }
   ],
   "source": [
    "cases['Uruguay'].plot()"
   ]
  },
  {
   "cell_type": "code",
   "execution_count": 9,
   "metadata": {},
   "outputs": [
    {
     "data": {
      "text/plain": [
       "<matplotlib.axes._subplots.AxesSubplot at 0x23cd2511fc8>"
      ]
     },
     "execution_count": 9,
     "metadata": {},
     "output_type": "execute_result"
    },
    {
     "data": {
      "image/png": "[encoded data removed]",
      "text/plain": [
       "<Figure size 1152x288 with 1 Axes>"
      ]
     },
     "metadata": {
      "needs_background": "light"
     },
     "output_type": "display_data"
    }
   ],
   "source": [
    "cases[['United States','India', 'Brazil','Russia','South Africa']].plot(figsize=(16,4), title='Cases for top 5 countries')"
   ]
  },
  {
   "cell_type": "code",
   "execution_count": 12,
   "metadata": {},
   "outputs": [],
   "source": [
    "cases['Col_sum'] = cases.apply(lambda x: x.sum(), axis=1)"
   ]
  },
  {
   "cell_type": "code",
   "execution_count": 13,
   "metadata": {},
   "outputs": [
    {
     "data": {
      "text/plain": [
       "<matplotlib.axes._subplots.AxesSubplot at 0x23cd1af3488>"
      ]
     },
     "execution_count": 13,
     "metadata": {},
     "output_type": "execute_result"
    },
    {
     "data": {
      "image/png": "[encoded data removed]",
      "text/plain": [
       "<Figure size 1152x288 with 1 Axes>"
      ]
     },
     "metadata": {
      "needs_background": "light"
     },
     "output_type": "display_data"
    }
   ],
   "source": [
    "cases['Col_sum'].plot(figsize=(16,4), title='Cases for the whole world')"
   ]
  },
  {
   "cell_type": "code",
   "execution_count": 18,
   "metadata": {},
   "outputs": [
    {
     "data": {
      "text/plain": [
       "country\n",
       "Col_sum          20409693.0\n",
       "United States     5172216.0\n",
       "Brazil            3164785.0\n",
       "India             2329638.0\n",
       "Russia             895691.0\n",
       "South Africa       566109.0\n",
       "Mexico             492522.0\n",
       "Peru               489680.0\n",
       "Colombia           410453.0\n",
       "Chile              376616.0\n",
       "Iran               331189.0\n",
       "Name: 2020_08_12, dtype: float64"
      ]
     },
     "execution_count": 18,
     "metadata": {},
     "output_type": "execute_result"
    }
   ],
   "source": [
    "current = cases.loc['2020_08_12']\n",
    "current.sort_values(ascending=False)[:11]"
   ]
  },
  {
   "cell_type": "markdown",
   "metadata": {},
   "source": [
    "## bed"
   ]
  },
  {
   "cell_type": "code",
   "execution_count": 4,
   "metadata": {},
   "outputs": [
    {
     "data": {
      "text/html": [
       "<div>\n",
       "<style scoped>\n",
       "    .dataframe tbody tr th:only-of-type {\n",
       "        vertical-align: middle;\n",
       "    }\n",
       "\n",
       "    .dataframe tbody tr th {\n",
       "        vertical-align: top;\n",
       "    }\n",
       "\n",
       "    .dataframe thead th {\n",
       "        text-align: right;\n",
       "    }\n",
       "</style>\n",
       "<table border=\"1\" class=\"dataframe\">\n",
       "  <thead>\n",
       "    <tr style=\"text-align: right;\">\n",
       "      <th></th>\n",
       "      <th>X</th>\n",
       "      <th>Y</th>\n",
       "      <th>OBJECTID</th>\n",
       "      <th>HOSPITAL_NAME</th>\n",
       "      <th>HOSPITAL_TYPE</th>\n",
       "      <th>HQ_ADDRESS</th>\n",
       "      <th>HQ_ADDRESS1</th>\n",
       "      <th>HQ_CITY</th>\n",
       "      <th>HQ_STATE</th>\n",
       "      <th>HQ_ZIP_CODE</th>\n",
       "      <th>...</th>\n",
       "      <th>CNTY_FIPS</th>\n",
       "      <th>FIPS</th>\n",
       "      <th>NUM_LICENSED_BEDS</th>\n",
       "      <th>NUM_STAFFED_BEDS</th>\n",
       "      <th>NUM_ICU_BEDS</th>\n",
       "      <th>ADULT_ICU_BEDS</th>\n",
       "      <th>PEDI_ICU_BEDS</th>\n",
       "      <th>BED_UTILIZATION</th>\n",
       "      <th>Potential_Increase_In_Bed_Capac</th>\n",
       "      <th>AVG_VENTILATOR_USAGE</th>\n",
       "    </tr>\n",
       "  </thead>\n",
       "  <tbody>\n",
       "    <tr>\n",
       "      <th>31</th>\n",
       "      <td>-85.823822</td>\n",
       "      <td>33.277147</td>\n",
       "      <td>32</td>\n",
       "      <td>Clay County Hospital</td>\n",
       "      <td>Short Term Acute Care Hospital</td>\n",
       "      <td>83825 Highway 9</td>\n",
       "      <td>PO BOX 1270</td>\n",
       "      <td>Ashland</td>\n",
       "      <td>AL</td>\n",
       "      <td>36251</td>\n",
       "      <td>...</td>\n",
       "      <td>27.0</td>\n",
       "      <td>1027.0</td>\n",
       "      <td>45.0</td>\n",
       "      <td>46.0</td>\n",
       "      <td>4</td>\n",
       "      <td>4</td>\n",
       "      <td>0.0</td>\n",
       "      <td>0.280643</td>\n",
       "      <td>-1</td>\n",
       "      <td>2</td>\n",
       "    </tr>\n",
       "    <tr>\n",
       "      <th>106</th>\n",
       "      <td>-161.727100</td>\n",
       "      <td>60.749400</td>\n",
       "      <td>107</td>\n",
       "      <td>Yukon-Kuskokwim Delta Regional Hospital</td>\n",
       "      <td>Short Term Acute Care Hospital</td>\n",
       "      <td>829 Chief Eddie Hoffman Hwy</td>\n",
       "      <td>P.O. Box 528</td>\n",
       "      <td>Bethel</td>\n",
       "      <td>AK</td>\n",
       "      <td>99559</td>\n",
       "      <td>...</td>\n",
       "      <td>50.0</td>\n",
       "      <td>2050.0</td>\n",
       "      <td>50.0</td>\n",
       "      <td>34.0</td>\n",
       "      <td>6</td>\n",
       "      <td>6</td>\n",
       "      <td>0.0</td>\n",
       "      <td>0.399919</td>\n",
       "      <td>16</td>\n",
       "      <td>1</td>\n",
       "    </tr>\n",
       "    <tr>\n",
       "      <th>119</th>\n",
       "      <td>-131.722900</td>\n",
       "      <td>56.314700</td>\n",
       "      <td>120</td>\n",
       "      <td>Wrangell Medical Center</td>\n",
       "      <td>Critical Access Hospital</td>\n",
       "      <td>310 Bennett St</td>\n",
       "      <td>PO Box 1081</td>\n",
       "      <td>Wrangell</td>\n",
       "      <td>AK</td>\n",
       "      <td>99929</td>\n",
       "      <td>...</td>\n",
       "      <td>275.0</td>\n",
       "      <td>2275.0</td>\n",
       "      <td>8.0</td>\n",
       "      <td>8.0</td>\n",
       "      <td>1</td>\n",
       "      <td>1</td>\n",
       "      <td>0.0</td>\n",
       "      <td>0.287568</td>\n",
       "      <td>0</td>\n",
       "      <td>0</td>\n",
       "    </tr>\n",
       "    <tr>\n",
       "      <th>124</th>\n",
       "      <td>-109.458900</td>\n",
       "      <td>35.605300</td>\n",
       "      <td>125</td>\n",
       "      <td>Sage Memorial Hospital</td>\n",
       "      <td>Critical Access Hospital</td>\n",
       "      <td>US-191 &amp; AZ-264</td>\n",
       "      <td>PO Box 457</td>\n",
       "      <td>Ganado</td>\n",
       "      <td>AZ</td>\n",
       "      <td>86505</td>\n",
       "      <td>...</td>\n",
       "      <td>1.0</td>\n",
       "      <td>4001.0</td>\n",
       "      <td>25.0</td>\n",
       "      <td>25.0</td>\n",
       "      <td>4</td>\n",
       "      <td>4</td>\n",
       "      <td>0.0</td>\n",
       "      <td>0.104219</td>\n",
       "      <td>0</td>\n",
       "      <td>1</td>\n",
       "    </tr>\n",
       "    <tr>\n",
       "      <th>162</th>\n",
       "      <td>-111.891233</td>\n",
       "      <td>33.333754</td>\n",
       "      <td>163</td>\n",
       "      <td>Dignity Health Arizona Specialty Hospital (FKA...</td>\n",
       "      <td>Short Term Acute Care Hospital</td>\n",
       "      <td>2905 W Warner Rd</td>\n",
       "      <td>Suite 1</td>\n",
       "      <td>Chandler</td>\n",
       "      <td>AZ</td>\n",
       "      <td>85224</td>\n",
       "      <td>...</td>\n",
       "      <td>13.0</td>\n",
       "      <td>4013.0</td>\n",
       "      <td>24.0</td>\n",
       "      <td>24.0</td>\n",
       "      <td>4</td>\n",
       "      <td>4</td>\n",
       "      <td>0.0</td>\n",
       "      <td>0.229795</td>\n",
       "      <td>0</td>\n",
       "      <td>0</td>\n",
       "    </tr>\n",
       "  </tbody>\n",
       "</table>\n",
       "<p>5 rows × 23 columns</p>\n",
       "</div>"
      ],
      "text/plain": [
       "              X          Y  OBJECTID  \\\n",
       "31   -85.823822  33.277147        32   \n",
       "106 -161.727100  60.749400       107   \n",
       "119 -131.722900  56.314700       120   \n",
       "124 -109.458900  35.605300       125   \n",
       "162 -111.891233  33.333754       163   \n",
       "\n",
       "                                         HOSPITAL_NAME  \\\n",
       "31                                Clay County Hospital   \n",
       "106            Yukon-Kuskokwim Delta Regional Hospital   \n",
       "119                            Wrangell Medical Center   \n",
       "124                             Sage Memorial Hospital   \n",
       "162  Dignity Health Arizona Specialty Hospital (FKA...   \n",
       "\n",
       "                      HOSPITAL_TYPE                   HQ_ADDRESS  \\\n",
       "31   Short Term Acute Care Hospital              83825 Highway 9   \n",
       "106  Short Term Acute Care Hospital  829 Chief Eddie Hoffman Hwy   \n",
       "119        Critical Access Hospital               310 Bennett St   \n",
       "124        Critical Access Hospital              US-191 & AZ-264   \n",
       "162  Short Term Acute Care Hospital             2905 W Warner Rd   \n",
       "\n",
       "      HQ_ADDRESS1   HQ_CITY HQ_STATE  HQ_ZIP_CODE  ... CNTY_FIPS    FIPS  \\\n",
       "31    PO BOX 1270   Ashland       AL        36251  ...      27.0  1027.0   \n",
       "106  P.O. Box 528    Bethel       AK        99559  ...      50.0  2050.0   \n",
       "119   PO Box 1081  Wrangell       AK        99929  ...     275.0  2275.0   \n",
       "124    PO Box 457    Ganado       AZ        86505  ...       1.0  4001.0   \n",
       "162       Suite 1  Chandler       AZ        85224  ...      13.0  4013.0   \n",
       "\n",
       "     NUM_LICENSED_BEDS  NUM_STAFFED_BEDS  NUM_ICU_BEDS  ADULT_ICU_BEDS  \\\n",
       "31                45.0              46.0             4               4   \n",
       "106               50.0              34.0             6               6   \n",
       "119                8.0               8.0             1               1   \n",
       "124               25.0              25.0             4               4   \n",
       "162               24.0              24.0             4               4   \n",
       "\n",
       "     PEDI_ICU_BEDS  BED_UTILIZATION  Potential_Increase_In_Bed_Capac  \\\n",
       "31             0.0         0.280643                               -1   \n",
       "106            0.0         0.399919                               16   \n",
       "119            0.0         0.287568                                0   \n",
       "124            0.0         0.104219                                0   \n",
       "162            0.0         0.229795                                0   \n",
       "\n",
       "     AVG_VENTILATOR_USAGE  \n",
       "31                      2  \n",
       "106                     1  \n",
       "119                     0  \n",
       "124                     1  \n",
       "162                     0  \n",
       "\n",
       "[5 rows x 23 columns]"
      ]
     },
     "execution_count": 4,
     "metadata": {},
     "output_type": "execute_result"
    }
   ],
   "source": [
    "bed.head()"
   ]
  },
  {
   "cell_type": "code",
   "execution_count": 3,
   "metadata": {},
   "outputs": [],
   "source": [
    "bed.dropna(how='any', inplace=True)"
   ]
  },
  {
   "cell_type": "code",
   "execution_count": 5,
   "metadata": {},
   "outputs": [],
   "source": [
    "bed = bed[['BED_UTILIZATION']].astype(float)"
   ]
  },
  {
   "cell_type": "code",
   "execution_count": 6,
   "metadata": {},
   "outputs": [
    {
     "data": {
      "text/html": [
       "<div>\n",
       "<style scoped>\n",
       "    .dataframe tbody tr th:only-of-type {\n",
       "        vertical-align: middle;\n",
       "    }\n",
       "\n",
       "    .dataframe tbody tr th {\n",
       "        vertical-align: top;\n",
       "    }\n",
       "\n",
       "    .dataframe thead th {\n",
       "        text-align: right;\n",
       "    }\n",
       "</style>\n",
       "<table border=\"1\" class=\"dataframe\">\n",
       "  <thead>\n",
       "    <tr style=\"text-align: right;\">\n",
       "      <th></th>\n",
       "      <th>BED_UTILIZATION</th>\n",
       "    </tr>\n",
       "  </thead>\n",
       "  <tbody>\n",
       "    <tr>\n",
       "      <th>31</th>\n",
       "      <td>0.280643</td>\n",
       "    </tr>\n",
       "    <tr>\n",
       "      <th>106</th>\n",
       "      <td>0.399919</td>\n",
       "    </tr>\n",
       "    <tr>\n",
       "      <th>119</th>\n",
       "      <td>0.287568</td>\n",
       "    </tr>\n",
       "    <tr>\n",
       "      <th>124</th>\n",
       "      <td>0.104219</td>\n",
       "    </tr>\n",
       "    <tr>\n",
       "      <th>162</th>\n",
       "      <td>0.229795</td>\n",
       "    </tr>\n",
       "  </tbody>\n",
       "</table>\n",
       "</div>"
      ],
      "text/plain": [
       "     BED_UTILIZATION\n",
       "31          0.280643\n",
       "106         0.399919\n",
       "119         0.287568\n",
       "124         0.104219\n",
       "162         0.229795"
      ]
     },
     "execution_count": 6,
     "metadata": {},
     "output_type": "execute_result"
    }
   ],
   "source": [
    "bed.head()"
   ]
  },
  {
   "cell_type": "code",
   "execution_count": 9,
   "metadata": {},
   "outputs": [
    {
     "data": {
      "text/plain": [
       "array([[<matplotlib.axes._subplots.AxesSubplot object at 0x000001CE018BD808>]],\n",
       "      dtype=object)"
      ]
     },
     "execution_count": 9,
     "metadata": {},
     "output_type": "execute_result"
    },
    {
     "data": {
      "image/png": "[encoded data removed]",
      "text/plain": [
       "<Figure size 432x288 with 1 Axes>"
      ]
     },
     "metadata": {
      "needs_background": "light"
     },
     "output_type": "display_data"
    }
   ],
   "source": [
    "bed.hist(bins=20)"
   ]
  },
  {
   "cell_type": "markdown",
   "metadata": {},
   "source": [
    "# Death rate"
   ]
  },
  {
   "cell_type": "code",
   "execution_count": 36,
   "metadata": {},
   "outputs": [
    {
     "name": "stderr",
     "output_type": "stream",
     "text": [
      "C:\\Users\\sivia\\anaconda3\\lib\\site-packages\\ipykernel_launcher.py:2: UserWarning: Boolean Series key will be reindexed to match DataFrame index.\n",
      "  \n"
     ]
    },
    {
     "data": {
      "text/html": [
       "<div>\n",
       "<style scoped>\n",
       "    .dataframe tbody tr th:only-of-type {\n",
       "        vertical-align: middle;\n",
       "    }\n",
       "\n",
       "    .dataframe tbody tr th {\n",
       "        vertical-align: top;\n",
       "    }\n",
       "\n",
       "    .dataframe thead th {\n",
       "        text-align: right;\n",
       "    }\n",
       "</style>\n",
       "<table border=\"1\" class=\"dataframe\">\n",
       "  <thead>\n",
       "    <tr style=\"text-align: right;\">\n",
       "      <th></th>\n",
       "      <th>year</th>\n",
       "      <th>race</th>\n",
       "      <th>sex</th>\n",
       "      <th>average_life_expectancy_years</th>\n",
       "      <th>age-adjusted_death_rate</th>\n",
       "    </tr>\n",
       "  </thead>\n",
       "  <tbody>\n",
       "    <tr>\n",
       "      <th>0</th>\n",
       "      <td>2015</td>\n",
       "      <td>All Races</td>\n",
       "      <td>Both Sexes</td>\n",
       "      <td>NaN</td>\n",
       "      <td>733.1</td>\n",
       "    </tr>\n",
       "    <tr>\n",
       "      <th>1</th>\n",
       "      <td>2014</td>\n",
       "      <td>All Races</td>\n",
       "      <td>Both Sexes</td>\n",
       "      <td>78.9</td>\n",
       "      <td>724.6</td>\n",
       "    </tr>\n",
       "    <tr>\n",
       "      <th>2</th>\n",
       "      <td>2013</td>\n",
       "      <td>All Races</td>\n",
       "      <td>Both Sexes</td>\n",
       "      <td>78.8</td>\n",
       "      <td>731.9</td>\n",
       "    </tr>\n",
       "    <tr>\n",
       "      <th>3</th>\n",
       "      <td>2012</td>\n",
       "      <td>All Races</td>\n",
       "      <td>Both Sexes</td>\n",
       "      <td>78.8</td>\n",
       "      <td>732.8</td>\n",
       "    </tr>\n",
       "    <tr>\n",
       "      <th>4</th>\n",
       "      <td>2011</td>\n",
       "      <td>All Races</td>\n",
       "      <td>Both Sexes</td>\n",
       "      <td>78.7</td>\n",
       "      <td>741.3</td>\n",
       "    </tr>\n",
       "    <tr>\n",
       "      <th>5</th>\n",
       "      <td>2010</td>\n",
       "      <td>All Races</td>\n",
       "      <td>Both Sexes</td>\n",
       "      <td>78.7</td>\n",
       "      <td>747.0</td>\n",
       "    </tr>\n",
       "    <tr>\n",
       "      <th>6</th>\n",
       "      <td>2009</td>\n",
       "      <td>All Races</td>\n",
       "      <td>Both Sexes</td>\n",
       "      <td>78.5</td>\n",
       "      <td>749.6</td>\n",
       "    </tr>\n",
       "    <tr>\n",
       "      <th>7</th>\n",
       "      <td>2008</td>\n",
       "      <td>All Races</td>\n",
       "      <td>Both Sexes</td>\n",
       "      <td>78.2</td>\n",
       "      <td>774.9</td>\n",
       "    </tr>\n",
       "    <tr>\n",
       "      <th>8</th>\n",
       "      <td>2007</td>\n",
       "      <td>All Races</td>\n",
       "      <td>Both Sexes</td>\n",
       "      <td>78.1</td>\n",
       "      <td>775.3</td>\n",
       "    </tr>\n",
       "    <tr>\n",
       "      <th>9</th>\n",
       "      <td>2006</td>\n",
       "      <td>All Races</td>\n",
       "      <td>Both Sexes</td>\n",
       "      <td>77.8</td>\n",
       "      <td>791.8</td>\n",
       "    </tr>\n",
       "    <tr>\n",
       "      <th>10</th>\n",
       "      <td>2005</td>\n",
       "      <td>All Races</td>\n",
       "      <td>Both Sexes</td>\n",
       "      <td>77.6</td>\n",
       "      <td>815.0</td>\n",
       "    </tr>\n",
       "    <tr>\n",
       "      <th>11</th>\n",
       "      <td>2004</td>\n",
       "      <td>All Races</td>\n",
       "      <td>Both Sexes</td>\n",
       "      <td>77.5</td>\n",
       "      <td>813.7</td>\n",
       "    </tr>\n",
       "    <tr>\n",
       "      <th>12</th>\n",
       "      <td>2003</td>\n",
       "      <td>All Races</td>\n",
       "      <td>Both Sexes</td>\n",
       "      <td>77.6</td>\n",
       "      <td>843.5</td>\n",
       "    </tr>\n",
       "    <tr>\n",
       "      <th>13</th>\n",
       "      <td>2002</td>\n",
       "      <td>All Races</td>\n",
       "      <td>Both Sexes</td>\n",
       "      <td>77.0</td>\n",
       "      <td>855.9</td>\n",
       "    </tr>\n",
       "    <tr>\n",
       "      <th>14</th>\n",
       "      <td>2001</td>\n",
       "      <td>All Races</td>\n",
       "      <td>Both Sexes</td>\n",
       "      <td>77.0</td>\n",
       "      <td>858.8</td>\n",
       "    </tr>\n",
       "    <tr>\n",
       "      <th>15</th>\n",
       "      <td>2000</td>\n",
       "      <td>All Races</td>\n",
       "      <td>Both Sexes</td>\n",
       "      <td>76.8</td>\n",
       "      <td>869.0</td>\n",
       "    </tr>\n",
       "    <tr>\n",
       "      <th>16</th>\n",
       "      <td>1999</td>\n",
       "      <td>All Races</td>\n",
       "      <td>Both Sexes</td>\n",
       "      <td>76.7</td>\n",
       "      <td>875.6</td>\n",
       "    </tr>\n",
       "    <tr>\n",
       "      <th>17</th>\n",
       "      <td>1998</td>\n",
       "      <td>All Races</td>\n",
       "      <td>Both Sexes</td>\n",
       "      <td>76.7</td>\n",
       "      <td>870.1</td>\n",
       "    </tr>\n",
       "    <tr>\n",
       "      <th>18</th>\n",
       "      <td>1997</td>\n",
       "      <td>All Races</td>\n",
       "      <td>Both Sexes</td>\n",
       "      <td>76.5</td>\n",
       "      <td>877.7</td>\n",
       "    </tr>\n",
       "    <tr>\n",
       "      <th>19</th>\n",
       "      <td>1996</td>\n",
       "      <td>All Races</td>\n",
       "      <td>Both Sexes</td>\n",
       "      <td>76.1</td>\n",
       "      <td>893.7</td>\n",
       "    </tr>\n",
       "  </tbody>\n",
       "</table>\n",
       "</div>"
      ],
      "text/plain": [
       "    year       race         sex  average_life_expectancy_years  \\\n",
       "0   2015  All Races  Both Sexes                            NaN   \n",
       "1   2014  All Races  Both Sexes                           78.9   \n",
       "2   2013  All Races  Both Sexes                           78.8   \n",
       "3   2012  All Races  Both Sexes                           78.8   \n",
       "4   2011  All Races  Both Sexes                           78.7   \n",
       "5   2010  All Races  Both Sexes                           78.7   \n",
       "6   2009  All Races  Both Sexes                           78.5   \n",
       "7   2008  All Races  Both Sexes                           78.2   \n",
       "8   2007  All Races  Both Sexes                           78.1   \n",
       "9   2006  All Races  Both Sexes                           77.8   \n",
       "10  2005  All Races  Both Sexes                           77.6   \n",
       "11  2004  All Races  Both Sexes                           77.5   \n",
       "12  2003  All Races  Both Sexes                           77.6   \n",
       "13  2002  All Races  Both Sexes                           77.0   \n",
       "14  2001  All Races  Both Sexes                           77.0   \n",
       "15  2000  All Races  Both Sexes                           76.8   \n",
       "16  1999  All Races  Both Sexes                           76.7   \n",
       "17  1998  All Races  Both Sexes                           76.7   \n",
       "18  1997  All Races  Both Sexes                           76.5   \n",
       "19  1996  All Races  Both Sexes                           76.1   \n",
       "\n",
       "    age-adjusted_death_rate  \n",
       "0                     733.1  \n",
       "1                     724.6  \n",
       "2                     731.9  \n",
       "3                     732.8  \n",
       "4                     741.3  \n",
       "5                     747.0  \n",
       "6                     749.6  \n",
       "7                     774.9  \n",
       "8                     775.3  \n",
       "9                     791.8  \n",
       "10                    815.0  \n",
       "11                    813.7  \n",
       "12                    843.5  \n",
       "13                    855.9  \n",
       "14                    858.8  \n",
       "15                    869.0  \n",
       "16                    875.6  \n",
       "17                    870.1  \n",
       "18                    877.7  \n",
       "19                    893.7  "
      ]
     },
     "execution_count": 36,
     "metadata": {},
     "output_type": "execute_result"
    }
   ],
   "source": [
    "death = pd.read_csv('nchs-death-rates-and-life-expectancy-at-birth_dataset_nchs-death-rates-and-life-expectancy-at-birth.csv')\n",
    "death = death[death.race=='All Races'][death.sex=='Both Sexes']\n",
    "death.head(20)"
   ]
  },
  {
   "cell_type": "code",
   "execution_count": 24,
   "metadata": {},
   "outputs": [],
   "source": [
    "death.set_index('year',inplace=True)\n",
    "#death = death['age-adjusted_death_rate']\n",
    "death.sort_index(inplace=True)"
   ]
  },
  {
   "cell_type": "code",
   "execution_count": 25,
   "metadata": {},
   "outputs": [
    {
     "data": {
      "text/html": [
       "<div>\n",
       "<style scoped>\n",
       "    .dataframe tbody tr th:only-of-type {\n",
       "        vertical-align: middle;\n",
       "    }\n",
       "\n",
       "    .dataframe tbody tr th {\n",
       "        vertical-align: top;\n",
       "    }\n",
       "\n",
       "    .dataframe thead th {\n",
       "        text-align: right;\n",
       "    }\n",
       "</style>\n",
       "<table border=\"1\" class=\"dataframe\">\n",
       "  <thead>\n",
       "    <tr style=\"text-align: right;\">\n",
       "      <th></th>\n",
       "      <th>race</th>\n",
       "      <th>sex</th>\n",
       "      <th>average_life_expectancy_years</th>\n",
       "      <th>age-adjusted_death_rate</th>\n",
       "    </tr>\n",
       "    <tr>\n",
       "      <th>year</th>\n",
       "      <th></th>\n",
       "      <th></th>\n",
       "      <th></th>\n",
       "      <th></th>\n",
       "    </tr>\n",
       "  </thead>\n",
       "  <tbody>\n",
       "    <tr>\n",
       "      <th>1900</th>\n",
       "      <td>All Races</td>\n",
       "      <td>Both Sexes</td>\n",
       "      <td>47.3</td>\n",
       "      <td>2518.0</td>\n",
       "    </tr>\n",
       "    <tr>\n",
       "      <th>1901</th>\n",
       "      <td>All Races</td>\n",
       "      <td>Both Sexes</td>\n",
       "      <td>49.1</td>\n",
       "      <td>2473.1</td>\n",
       "    </tr>\n",
       "    <tr>\n",
       "      <th>1902</th>\n",
       "      <td>All Races</td>\n",
       "      <td>Both Sexes</td>\n",
       "      <td>51.5</td>\n",
       "      <td>2301.3</td>\n",
       "    </tr>\n",
       "    <tr>\n",
       "      <th>1903</th>\n",
       "      <td>All Races</td>\n",
       "      <td>Both Sexes</td>\n",
       "      <td>50.5</td>\n",
       "      <td>2379.0</td>\n",
       "    </tr>\n",
       "    <tr>\n",
       "      <th>1904</th>\n",
       "      <td>All Races</td>\n",
       "      <td>Both Sexes</td>\n",
       "      <td>47.6</td>\n",
       "      <td>2502.5</td>\n",
       "    </tr>\n",
       "  </tbody>\n",
       "</table>\n",
       "</div>"
      ],
      "text/plain": [
       "           race         sex  average_life_expectancy_years  \\\n",
       "year                                                         \n",
       "1900  All Races  Both Sexes                           47.3   \n",
       "1901  All Races  Both Sexes                           49.1   \n",
       "1902  All Races  Both Sexes                           51.5   \n",
       "1903  All Races  Both Sexes                           50.5   \n",
       "1904  All Races  Both Sexes                           47.6   \n",
       "\n",
       "      age-adjusted_death_rate  \n",
       "year                           \n",
       "1900                   2518.0  \n",
       "1901                   2473.1  \n",
       "1902                   2301.3  \n",
       "1903                   2379.0  \n",
       "1904                   2502.5  "
      ]
     },
     "execution_count": 25,
     "metadata": {},
     "output_type": "execute_result"
    }
   ],
   "source": [
    "death.head()"
   ]
  },
  {
   "cell_type": "code",
   "execution_count": 31,
   "metadata": {},
   "outputs": [
    {
     "data": {
      "text/plain": [
       "Text(0, 0.5, 'death per 100,000')"
      ]
     },
     "execution_count": 31,
     "metadata": {},
     "output_type": "execute_result"
    },
    {
     "data": {
      "image/png": "[encoded data removed]",
      "text/plain": [
       "<Figure size 432x288 with 1 Axes>"
      ]
     },
     "metadata": {
      "needs_background": "light"
     },
     "output_type": "display_data"
    }
   ],
   "source": [
    "#death.reset_index(inplace=True)\n",
    "ax = death.plot(x='year',y='age-adjusted_death_rate', title='death rate')\n",
    "ax.set_ylabel('death per 100,000')"
   ]
  },
  {
   "cell_type": "code",
   "execution_count": 33,
   "metadata": {},
   "outputs": [
    {
     "data": {
      "text/plain": [
       "2350731.0"
      ]
     },
     "execution_count": 33,
     "metadata": {},
     "output_type": "execute_result"
    }
   ],
   "source": [
    "733*320*10"
   ]
  },
  {
   "cell_type": "code",
   "execution_count": 35,
   "metadata": {},
   "outputs": [
    {
     "data": {
      "text/plain": [
       "786.9383241173967"
      ]
     },
     "execution_count": 35,
     "metadata": {},
     "output_type": "execute_result"
    }
   ],
   "source": [
    "(173/2351 + 1)*733"
   ]
  },
  {
   "cell_type": "markdown",
   "metadata": {},
   "source": [
    "# motor"
   ]
  },
  {
   "cell_type": "code",
   "execution_count": 37,
   "metadata": {},
   "outputs": [],
   "source": [
    "motor = pd.read_csv('motor-vehicle-occupant-death-rate_dataset_motor-vehicle-occupant-death-rate.csv')"
   ]
  },
  {
   "cell_type": "code",
   "execution_count": 38,
   "metadata": {},
   "outputs": [
    {
     "data": {
      "text/html": [
       "<div>\n",
       "<style scoped>\n",
       "    .dataframe tbody tr th:only-of-type {\n",
       "        vertical-align: middle;\n",
       "    }\n",
       "\n",
       "    .dataframe tbody tr th {\n",
       "        vertical-align: top;\n",
       "    }\n",
       "\n",
       "    .dataframe thead th {\n",
       "        text-align: right;\n",
       "    }\n",
       "</style>\n",
       "<table border=\"1\" class=\"dataframe\">\n",
       "  <thead>\n",
       "    <tr style=\"text-align: right;\">\n",
       "      <th></th>\n",
       "      <th>state</th>\n",
       "      <th>location</th>\n",
       "      <th>all_ages_2012</th>\n",
       "      <th>all_ages_2014</th>\n",
       "      <th>age_0-20_2012</th>\n",
       "      <th>age_0-20_2014</th>\n",
       "      <th>age_21-34_2012</th>\n",
       "      <th>age_21-34_2014</th>\n",
       "      <th>age_35-54_2012</th>\n",
       "      <th>age_35-54_2014</th>\n",
       "      <th>age_55+_2012</th>\n",
       "      <th>age_55+_2014</th>\n",
       "      <th>male_2012</th>\n",
       "      <th>male_2014</th>\n",
       "      <th>female_2012</th>\n",
       "      <th>female_2014</th>\n",
       "    </tr>\n",
       "  </thead>\n",
       "  <tbody>\n",
       "    <tr>\n",
       "      <th>0</th>\n",
       "      <td>NaN</td>\n",
       "      <td>NaN</td>\n",
       "      <td>NaN</td>\n",
       "      <td>NaN</td>\n",
       "      <td>NaN</td>\n",
       "      <td>4.3</td>\n",
       "      <td>NaN</td>\n",
       "      <td>NaN</td>\n",
       "      <td>NaN</td>\n",
       "      <td>NaN</td>\n",
       "      <td>NaN</td>\n",
       "      <td>NaN</td>\n",
       "      <td>NaN</td>\n",
       "      <td>NaN</td>\n",
       "      <td>NaN</td>\n",
       "      <td>NaN</td>\n",
       "    </tr>\n",
       "    <tr>\n",
       "      <th>1</th>\n",
       "      <td>California</td>\n",
       "      <td>California\\n(37.640735, -121.002435)</td>\n",
       "      <td>4.2</td>\n",
       "      <td>4.3</td>\n",
       "      <td>2.4</td>\n",
       "      <td>2.7</td>\n",
       "      <td>6.9</td>\n",
       "      <td>6.9</td>\n",
       "      <td>4.0</td>\n",
       "      <td>3.5</td>\n",
       "      <td>4.5</td>\n",
       "      <td>4.7</td>\n",
       "      <td>5.6</td>\n",
       "      <td>5.7</td>\n",
       "      <td>2.7</td>\n",
       "      <td>2.8</td>\n",
       "    </tr>\n",
       "    <tr>\n",
       "      <th>2</th>\n",
       "      <td>Massachusetts</td>\n",
       "      <td>Massachusetts\\n(42.268546, -72.085064)</td>\n",
       "      <td>2.9</td>\n",
       "      <td>3.0</td>\n",
       "      <td>1.8</td>\n",
       "      <td>1.2</td>\n",
       "      <td>4.7</td>\n",
       "      <td>4.4</td>\n",
       "      <td>2.2</td>\n",
       "      <td>3.1</td>\n",
       "      <td>3.9</td>\n",
       "      <td>3.7</td>\n",
       "      <td>4.1</td>\n",
       "      <td>4.6</td>\n",
       "      <td>1.7</td>\n",
       "      <td>1.5</td>\n",
       "    </tr>\n",
       "    <tr>\n",
       "      <th>3</th>\n",
       "      <td>Idaho</td>\n",
       "      <td>Idaho\\n(43.680635, -114.364237)</td>\n",
       "      <td>8.6</td>\n",
       "      <td>8.6</td>\n",
       "      <td>4.5</td>\n",
       "      <td>5.4</td>\n",
       "      <td>12.0</td>\n",
       "      <td>11.4</td>\n",
       "      <td>8.8</td>\n",
       "      <td>7.3</td>\n",
       "      <td>10.9</td>\n",
       "      <td>10.6</td>\n",
       "      <td>10.4</td>\n",
       "      <td>10.6</td>\n",
       "      <td>6.9</td>\n",
       "      <td>6.5</td>\n",
       "    </tr>\n",
       "    <tr>\n",
       "      <th>4</th>\n",
       "      <td>South Dakota</td>\n",
       "      <td>South Dakota\\n(44.35371, -100.373709)</td>\n",
       "      <td>12.0</td>\n",
       "      <td>12.5</td>\n",
       "      <td>9.5</td>\n",
       "      <td>NaN</td>\n",
       "      <td>17.9</td>\n",
       "      <td>16.1</td>\n",
       "      <td>12.1</td>\n",
       "      <td>10.3</td>\n",
       "      <td>10.1</td>\n",
       "      <td>16.9</td>\n",
       "      <td>15.4</td>\n",
       "      <td>17.1</td>\n",
       "      <td>8.5</td>\n",
       "      <td>7.7</td>\n",
       "    </tr>\n",
       "  </tbody>\n",
       "</table>\n",
       "</div>"
      ],
      "text/plain": [
       "           state                                location  all_ages_2012  \\\n",
       "0            NaN                                     NaN            NaN   \n",
       "1     California    California\\n(37.640735, -121.002435)            4.2   \n",
       "2  Massachusetts  Massachusetts\\n(42.268546, -72.085064)            2.9   \n",
       "3          Idaho         Idaho\\n(43.680635, -114.364237)            8.6   \n",
       "4   South Dakota   South Dakota\\n(44.35371, -100.373709)           12.0   \n",
       "\n",
       "   all_ages_2014  age_0-20_2012  age_0-20_2014  age_21-34_2012  \\\n",
       "0            NaN            NaN            4.3             NaN   \n",
       "1            4.3            2.4            2.7             6.9   \n",
       "2            3.0            1.8            1.2             4.7   \n",
       "3            8.6            4.5            5.4            12.0   \n",
       "4           12.5            9.5            NaN            17.9   \n",
       "\n",
       "   age_21-34_2014  age_35-54_2012  age_35-54_2014  age_55+_2012  age_55+_2014  \\\n",
       "0             NaN             NaN             NaN           NaN           NaN   \n",
       "1             6.9             4.0             3.5           4.5           4.7   \n",
       "2             4.4             2.2             3.1           3.9           3.7   \n",
       "3            11.4             8.8             7.3          10.9          10.6   \n",
       "4            16.1            12.1            10.3          10.1          16.9   \n",
       "\n",
       "   male_2012  male_2014  female_2012  female_2014  \n",
       "0        NaN        NaN          NaN          NaN  \n",
       "1        5.6        5.7          2.7          2.8  \n",
       "2        4.1        4.6          1.7          1.5  \n",
       "3       10.4       10.6          6.9          6.5  \n",
       "4       15.4       17.1          8.5          7.7  "
      ]
     },
     "execution_count": 38,
     "metadata": {},
     "output_type": "execute_result"
    }
   ],
   "source": [
    "motor.head()"
   ]
  },
  {
   "cell_type": "code",
   "execution_count": 39,
   "metadata": {},
   "outputs": [],
   "source": [
    "motor.dropna(inplace=True)"
   ]
  },
  {
   "cell_type": "code",
   "execution_count": 40,
   "metadata": {},
   "outputs": [
    {
     "data": {
      "text/plain": [
       "array([[<matplotlib.axes._subplots.AxesSubplot object at 0x000001CE01B49688>]],\n",
       "      dtype=object)"
      ]
     },
     "execution_count": 40,
     "metadata": {},
     "output_type": "execute_result"
    },
    {
     "data": {
      "image/png": "[encoded data removed]",
      "text/plain": [
       "<Figure size 432x288 with 1 Axes>"
      ]
     },
     "metadata": {
      "needs_background": "light"
     },
     "output_type": "display_data"
    }
   ],
   "source": [
    "motor.hist('all_ages_2014')"
   ]
  },
  {
   "cell_type": "code",
   "execution_count": 42,
   "metadata": {},
   "outputs": [
    {
     "data": {
      "text/plain": [
       "54.0625"
      ]
     },
     "execution_count": 42,
     "metadata": {},
     "output_type": "execute_result"
    }
   ],
   "source": [
    "173/3.20"
   ]
  },
  {
   "cell_type": "code",
   "execution_count": 43,
   "metadata": {},
   "outputs": [
    {
     "data": {
      "text/plain": [
       "8.139999999999999"
      ]
     },
     "execution_count": 43,
     "metadata": {},
     "output_type": "execute_result"
    }
   ],
   "source": [
    "motor['all_ages_2014'].mean()"
   ]
  },
  {
   "cell_type": "code",
   "execution_count": null,
   "metadata": {},
   "outputs": [],
   "source": []
  }
 ],
 "metadata": {
  "kernelspec": {
   "display_name": "Python 3",
   "language": "python",
   "name": "python3"
  },
  "language_info": {
   "codemirror_mode": {
    "name": "ipython",
    "version": 3
   },
   "file_extension": ".py",
   "mimetype": "text/x-python",
   "name": "python",
   "nbconvert_exporter": "python",
   "pygments_lexer": "ipython3",
   "version": "3.7.6"
  }
 },
 "nbformat": 4,
 "nbformat_minor": 4
}
